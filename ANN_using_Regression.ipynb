{
  "nbformat": 4,
  "nbformat_minor": 0,
  "metadata": {
    "colab": {
      "provenance": [],
      "include_colab_link": true
    },
    "kernelspec": {
      "name": "python3",
      "display_name": "Python 3"
    }
  },
  "cells": [
    {
      "cell_type": "markdown",
      "metadata": {
        "id": "view-in-github",
        "colab_type": "text"
      },
      "source": [
        "<a href=\"https://colab.research.google.com/github/Atharv-3105/Neural-Networks/blob/main/ANN_using_Regression.ipynb\" target=\"_parent\"><img src=\"https://colab.research.google.com/assets/colab-badge.svg\" alt=\"Open In Colab\"/></a>"
      ]
    },
    {
      "cell_type": "markdown",
      "metadata": {
        "id": "3cbb7fRy-eyr"
      },
      "source": [
        "# Artificial Neural Network"
      ]
    },
    {
      "cell_type": "markdown",
      "metadata": {
        "id": "8sNDnxE2-pwE"
      },
      "source": [
        "### Importing the libraries"
      ]
    },
    {
      "cell_type": "code",
      "metadata": {
        "id": "lxChR1Rk-umf"
      },
      "source": [
        "import numpy as np\n",
        "import pandas as pd\n",
        "import tensorflow as tf"
      ],
      "execution_count": 1,
      "outputs": []
    },
    {
      "cell_type": "code",
      "metadata": {
        "id": "uBTqR3nacj0e",
        "colab": {
          "base_uri": "https://localhost:8080/",
          "height": 36
        },
        "outputId": "0db4f5b1-6603-4fdf-bed1-03bc85ab42e3"
      },
      "source": [
        "tf.__version__"
      ],
      "execution_count": 2,
      "outputs": [
        {
          "output_type": "execute_result",
          "data": {
            "text/plain": [
              "'2.15.0'"
            ],
            "application/vnd.google.colaboratory.intrinsic+json": {
              "type": "string"
            }
          },
          "metadata": {},
          "execution_count": 2
        }
      ]
    },
    {
      "cell_type": "markdown",
      "metadata": {
        "id": "AG3FQEch-yuA"
      },
      "source": [
        "## Part 1 - Data Preprocessing"
      ]
    },
    {
      "cell_type": "markdown",
      "metadata": {
        "id": "-4zq8Mza_D9O"
      },
      "source": [
        "### Importing the dataset"
      ]
    },
    {
      "cell_type": "code",
      "source": [
        "dataset = pd.read_excel(\"Folds5x2_pp.xlsx\")\n",
        "X = dataset.iloc[:, :-1].values\n",
        "Y = dataset.iloc[:, -1].values"
      ],
      "metadata": {
        "id": "koYQQBkgfx_c"
      },
      "execution_count": 3,
      "outputs": []
    },
    {
      "cell_type": "markdown",
      "metadata": {
        "id": "VC6omXel_Up0"
      },
      "source": [
        "### Splitting the dataset into the Training set and Test set"
      ]
    },
    {
      "cell_type": "code",
      "source": [
        "from sklearn.model_selection import train_test_split\n",
        "X_train, X_test , Y_train, Y_test = train_test_split(X,Y,test_size=0.2, random_state=0)"
      ],
      "metadata": {
        "id": "TInqi9YxijQd"
      },
      "execution_count": 4,
      "outputs": []
    },
    {
      "cell_type": "markdown",
      "metadata": {
        "id": "_mSLlAT9_eyI"
      },
      "source": [
        "## Part 2 - Building the ANN"
      ]
    },
    {
      "cell_type": "markdown",
      "metadata": {
        "id": "CsBULd_f_wLY"
      },
      "source": [
        "### Initializing the ANN"
      ]
    },
    {
      "cell_type": "code",
      "source": [
        "ann = tf.keras.models.Sequential()"
      ],
      "metadata": {
        "id": "vLULjA0Gk9xL"
      },
      "execution_count": 9,
      "outputs": []
    },
    {
      "cell_type": "markdown",
      "metadata": {
        "id": "iitAFJS_ABUn"
      },
      "source": [
        "### Adding the input layer and the first hidden layer"
      ]
    },
    {
      "cell_type": "code",
      "source": [
        "ann.add(tf.keras.layers.Dense(units=6, activation='relu'))"
      ],
      "metadata": {
        "id": "a8lvCVS7mo4o"
      },
      "execution_count": 10,
      "outputs": []
    },
    {
      "cell_type": "markdown",
      "metadata": {
        "id": "-lb4kK_wAKbs"
      },
      "source": [
        "### Adding the second hidden layer"
      ]
    },
    {
      "cell_type": "code",
      "source": [
        "ann.add(tf.keras.layers.Dense(units=6, activation='relu'))"
      ],
      "metadata": {
        "id": "IGUJND5Cm7ir"
      },
      "execution_count": 11,
      "outputs": []
    },
    {
      "cell_type": "markdown",
      "metadata": {
        "id": "jwMOmKb3AdBY"
      },
      "source": [
        "### Adding the output layer"
      ]
    },
    {
      "cell_type": "code",
      "source": [
        "ann.add(tf.keras.layers.Dense(units = 1))"
      ],
      "metadata": {
        "id": "uMqM1CLjnpQc"
      },
      "execution_count": 12,
      "outputs": []
    },
    {
      "cell_type": "markdown",
      "metadata": {
        "id": "fq7e4fF6A1yy"
      },
      "source": [
        "## Part 3 - Training the ANN"
      ]
    },
    {
      "cell_type": "markdown",
      "metadata": {
        "id": "qDeylAs2An25"
      },
      "source": [
        "### Compiling the ANN"
      ]
    },
    {
      "cell_type": "code",
      "source": [
        "ann.compile(optimizer='adam', loss='mean_squared_error')"
      ],
      "metadata": {
        "id": "DWzpffNAuEnJ"
      },
      "execution_count": 13,
      "outputs": []
    },
    {
      "cell_type": "markdown",
      "metadata": {
        "id": "YjVuiybYOo7r"
      },
      "source": [
        "### Training the ANN model on the Training set"
      ]
    },
    {
      "cell_type": "code",
      "source": [
        "ann.fit(X_train , Y_train, batch_size=32, epochs=100)"
      ],
      "metadata": {
        "colab": {
          "base_uri": "https://localhost:8080/"
        },
        "id": "-WXzev8fvW9r",
        "outputId": "fd59d25b-9ca6-44fa-9cb3-d2e0548999ae"
      },
      "execution_count": 14,
      "outputs": [
        {
          "output_type": "stream",
          "name": "stdout",
          "text": [
            "Epoch 1/100\n",
            "240/240 [==============================] - 2s 3ms/step - loss: 102070.5625\n",
            "Epoch 2/100\n",
            "240/240 [==============================] - 0s 2ms/step - loss: 746.8415\n",
            "Epoch 3/100\n",
            "240/240 [==============================] - 0s 2ms/step - loss: 289.0181\n",
            "Epoch 4/100\n",
            "240/240 [==============================] - 0s 2ms/step - loss: 248.4141\n",
            "Epoch 5/100\n",
            "240/240 [==============================] - 0s 2ms/step - loss: 208.3146\n",
            "Epoch 6/100\n",
            "240/240 [==============================] - 0s 2ms/step - loss: 169.8897\n",
            "Epoch 7/100\n",
            "240/240 [==============================] - 0s 2ms/step - loss: 128.1689\n",
            "Epoch 8/100\n",
            "240/240 [==============================] - 0s 2ms/step - loss: 94.6132\n",
            "Epoch 9/100\n",
            "240/240 [==============================] - 0s 2ms/step - loss: 69.7296\n",
            "Epoch 10/100\n",
            "240/240 [==============================] - 0s 2ms/step - loss: 55.0985\n",
            "Epoch 11/100\n",
            "240/240 [==============================] - 0s 2ms/step - loss: 48.9360\n",
            "Epoch 12/100\n",
            "240/240 [==============================] - 0s 2ms/step - loss: 46.9729\n",
            "Epoch 13/100\n",
            "240/240 [==============================] - 0s 2ms/step - loss: 44.9899\n",
            "Epoch 14/100\n",
            "240/240 [==============================] - 0s 2ms/step - loss: 43.7097\n",
            "Epoch 15/100\n",
            "240/240 [==============================] - 0s 2ms/step - loss: 43.2017\n",
            "Epoch 16/100\n",
            "240/240 [==============================] - 0s 2ms/step - loss: 42.7626\n",
            "Epoch 17/100\n",
            "240/240 [==============================] - 0s 2ms/step - loss: 41.9149\n",
            "Epoch 18/100\n",
            "240/240 [==============================] - 0s 2ms/step - loss: 40.2818\n",
            "Epoch 19/100\n",
            "240/240 [==============================] - 0s 2ms/step - loss: 39.9306\n",
            "Epoch 20/100\n",
            "240/240 [==============================] - 0s 2ms/step - loss: 39.1633\n",
            "Epoch 21/100\n",
            "240/240 [==============================] - 0s 2ms/step - loss: 37.1481\n",
            "Epoch 22/100\n",
            "240/240 [==============================] - 0s 2ms/step - loss: 38.4936\n",
            "Epoch 23/100\n",
            "240/240 [==============================] - 0s 2ms/step - loss: 37.1892\n",
            "Epoch 24/100\n",
            "240/240 [==============================] - 0s 2ms/step - loss: 35.7943\n",
            "Epoch 25/100\n",
            "240/240 [==============================] - 1s 2ms/step - loss: 33.7496\n",
            "Epoch 26/100\n",
            "240/240 [==============================] - 1s 3ms/step - loss: 34.5486\n",
            "Epoch 27/100\n",
            "240/240 [==============================] - 1s 3ms/step - loss: 32.8212\n",
            "Epoch 28/100\n",
            "240/240 [==============================] - 1s 3ms/step - loss: 33.1533\n",
            "Epoch 29/100\n",
            "240/240 [==============================] - 1s 3ms/step - loss: 32.3544\n",
            "Epoch 30/100\n",
            "240/240 [==============================] - 1s 3ms/step - loss: 32.0730\n",
            "Epoch 31/100\n",
            "240/240 [==============================] - 0s 2ms/step - loss: 31.6155\n",
            "Epoch 32/100\n",
            "240/240 [==============================] - 0s 2ms/step - loss: 30.7697\n",
            "Epoch 33/100\n",
            "240/240 [==============================] - 0s 2ms/step - loss: 31.3510\n",
            "Epoch 34/100\n",
            "240/240 [==============================] - 0s 2ms/step - loss: 30.3469\n",
            "Epoch 35/100\n",
            "240/240 [==============================] - 0s 2ms/step - loss: 30.0312\n",
            "Epoch 36/100\n",
            "240/240 [==============================] - 0s 2ms/step - loss: 29.8361\n",
            "Epoch 37/100\n",
            "240/240 [==============================] - 0s 2ms/step - loss: 28.7976\n",
            "Epoch 38/100\n",
            "240/240 [==============================] - 0s 2ms/step - loss: 29.6070\n",
            "Epoch 39/100\n",
            "240/240 [==============================] - 0s 2ms/step - loss: 30.0115\n",
            "Epoch 40/100\n",
            "240/240 [==============================] - 0s 2ms/step - loss: 28.9192\n",
            "Epoch 41/100\n",
            "240/240 [==============================] - 0s 2ms/step - loss: 28.4174\n",
            "Epoch 42/100\n",
            "240/240 [==============================] - 0s 2ms/step - loss: 28.5549\n",
            "Epoch 43/100\n",
            "240/240 [==============================] - 0s 2ms/step - loss: 29.3074\n",
            "Epoch 44/100\n",
            "240/240 [==============================] - 0s 2ms/step - loss: 28.0526\n",
            "Epoch 45/100\n",
            "240/240 [==============================] - 0s 2ms/step - loss: 28.2677\n",
            "Epoch 46/100\n",
            "240/240 [==============================] - 0s 2ms/step - loss: 28.3006\n",
            "Epoch 47/100\n",
            "240/240 [==============================] - 0s 2ms/step - loss: 28.6605\n",
            "Epoch 48/100\n",
            "240/240 [==============================] - 0s 2ms/step - loss: 28.4850\n",
            "Epoch 49/100\n",
            "240/240 [==============================] - 0s 2ms/step - loss: 27.7310\n",
            "Epoch 50/100\n",
            "240/240 [==============================] - 0s 2ms/step - loss: 27.8935\n",
            "Epoch 51/100\n",
            "240/240 [==============================] - 0s 2ms/step - loss: 28.2063\n",
            "Epoch 52/100\n",
            "240/240 [==============================] - 0s 2ms/step - loss: 28.4516\n",
            "Epoch 53/100\n",
            "240/240 [==============================] - 0s 2ms/step - loss: 28.0847\n",
            "Epoch 54/100\n",
            "240/240 [==============================] - 0s 2ms/step - loss: 27.6635\n",
            "Epoch 55/100\n",
            "240/240 [==============================] - 1s 3ms/step - loss: 28.5761\n",
            "Epoch 56/100\n",
            "240/240 [==============================] - 1s 3ms/step - loss: 27.9086\n",
            "Epoch 57/100\n",
            "240/240 [==============================] - 1s 3ms/step - loss: 27.9001\n",
            "Epoch 58/100\n",
            "240/240 [==============================] - 1s 3ms/step - loss: 29.0809\n",
            "Epoch 59/100\n",
            "240/240 [==============================] - 1s 3ms/step - loss: 26.8507\n",
            "Epoch 60/100\n",
            "240/240 [==============================] - 0s 2ms/step - loss: 27.8948\n",
            "Epoch 61/100\n",
            "240/240 [==============================] - 0s 2ms/step - loss: 27.2982\n",
            "Epoch 62/100\n",
            "240/240 [==============================] - 0s 2ms/step - loss: 27.5140\n",
            "Epoch 63/100\n",
            "240/240 [==============================] - 0s 2ms/step - loss: 27.6673\n",
            "Epoch 64/100\n",
            "240/240 [==============================] - 0s 2ms/step - loss: 27.4407\n",
            "Epoch 65/100\n",
            "240/240 [==============================] - 0s 2ms/step - loss: 27.9682\n",
            "Epoch 66/100\n",
            "240/240 [==============================] - 0s 2ms/step - loss: 26.9862\n",
            "Epoch 67/100\n",
            "240/240 [==============================] - 0s 2ms/step - loss: 27.0292\n",
            "Epoch 68/100\n",
            "240/240 [==============================] - 0s 2ms/step - loss: 27.9143\n",
            "Epoch 69/100\n",
            "240/240 [==============================] - 0s 2ms/step - loss: 29.2890\n",
            "Epoch 70/100\n",
            "240/240 [==============================] - 0s 2ms/step - loss: 27.4875\n",
            "Epoch 71/100\n",
            "240/240 [==============================] - 0s 2ms/step - loss: 27.6797\n",
            "Epoch 72/100\n",
            "240/240 [==============================] - 0s 2ms/step - loss: 27.1574\n",
            "Epoch 73/100\n",
            "240/240 [==============================] - 0s 2ms/step - loss: 26.7614\n",
            "Epoch 74/100\n",
            "240/240 [==============================] - 0s 2ms/step - loss: 28.3283\n",
            "Epoch 75/100\n",
            "240/240 [==============================] - 0s 2ms/step - loss: 29.0312\n",
            "Epoch 76/100\n",
            "240/240 [==============================] - 0s 2ms/step - loss: 28.2931\n",
            "Epoch 77/100\n",
            "240/240 [==============================] - 0s 2ms/step - loss: 28.0069\n",
            "Epoch 78/100\n",
            "240/240 [==============================] - 0s 2ms/step - loss: 27.4045\n",
            "Epoch 79/100\n",
            "240/240 [==============================] - 0s 2ms/step - loss: 26.8503\n",
            "Epoch 80/100\n",
            "240/240 [==============================] - 0s 2ms/step - loss: 28.0994\n",
            "Epoch 81/100\n",
            "240/240 [==============================] - 0s 2ms/step - loss: 27.4335\n",
            "Epoch 82/100\n",
            "240/240 [==============================] - 0s 2ms/step - loss: 27.4308\n",
            "Epoch 83/100\n",
            "240/240 [==============================] - 0s 2ms/step - loss: 27.5140\n",
            "Epoch 84/100\n",
            "240/240 [==============================] - 1s 3ms/step - loss: 27.6584\n",
            "Epoch 85/100\n",
            "240/240 [==============================] - 1s 3ms/step - loss: 27.0136\n",
            "Epoch 86/100\n",
            "240/240 [==============================] - 1s 3ms/step - loss: 27.5083\n",
            "Epoch 87/100\n",
            "240/240 [==============================] - 1s 3ms/step - loss: 27.7480\n",
            "Epoch 88/100\n",
            "240/240 [==============================] - 1s 3ms/step - loss: 27.3012\n",
            "Epoch 89/100\n",
            "240/240 [==============================] - 0s 2ms/step - loss: 27.3562\n",
            "Epoch 90/100\n",
            "240/240 [==============================] - 0s 2ms/step - loss: 26.7515\n",
            "Epoch 91/100\n",
            "240/240 [==============================] - 0s 2ms/step - loss: 27.3684\n",
            "Epoch 92/100\n",
            "240/240 [==============================] - 0s 2ms/step - loss: 27.7809\n",
            "Epoch 93/100\n",
            "240/240 [==============================] - 0s 2ms/step - loss: 28.8254\n",
            "Epoch 94/100\n",
            "240/240 [==============================] - 0s 2ms/step - loss: 27.8391\n",
            "Epoch 95/100\n",
            "240/240 [==============================] - 0s 2ms/step - loss: 27.1404\n",
            "Epoch 96/100\n",
            "240/240 [==============================] - 0s 2ms/step - loss: 28.4311\n",
            "Epoch 97/100\n",
            "240/240 [==============================] - 0s 2ms/step - loss: 26.9168\n",
            "Epoch 98/100\n",
            "240/240 [==============================] - 0s 2ms/step - loss: 27.7602\n",
            "Epoch 99/100\n",
            "240/240 [==============================] - 0s 2ms/step - loss: 27.6663\n",
            "Epoch 100/100\n",
            "240/240 [==============================] - 0s 2ms/step - loss: 27.4948\n"
          ]
        },
        {
          "output_type": "execute_result",
          "data": {
            "text/plain": [
              "<keras.src.callbacks.History at 0x78c7860e1630>"
            ]
          },
          "metadata": {},
          "execution_count": 14
        }
      ]
    },
    {
      "cell_type": "markdown",
      "metadata": {
        "id": "0H0zKKNEBLD5"
      },
      "source": [
        "### Predicting the results of the Test set"
      ]
    },
    {
      "cell_type": "code",
      "source": [
        "y_pred = ann.predict(X_test)\n",
        "np.set_printoptions(precision=2)\n",
        "print(np.concatenate((y_pred.reshape(len(y_pred),1), Y_test.reshape(len(Y_test),1)),1))"
      ],
      "metadata": {
        "colab": {
          "base_uri": "https://localhost:8080/"
        },
        "id": "ZJ4FSeMpwgm8",
        "outputId": "dd93e1b0-7b50-46e4-a37b-e2ab71beb05b"
      },
      "execution_count": 15,
      "outputs": [
        {
          "output_type": "stream",
          "name": "stdout",
          "text": [
            "60/60 [==============================] - 0s 1ms/step\n",
            "[[432.14 431.23]\n",
            " [463.22 460.01]\n",
            " [466.76 461.14]\n",
            " ...\n",
            " [473.94 473.26]\n",
            " [440.69 438.  ]\n",
            " [459.92 463.28]]\n"
          ]
        }
      ]
    }
  ]
}